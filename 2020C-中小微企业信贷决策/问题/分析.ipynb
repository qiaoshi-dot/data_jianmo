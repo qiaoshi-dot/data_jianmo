{
 "cells": [
  {
   "cell_type": "code",
   "execution_count": 2,
   "id": "f11fb1d0",
   "metadata": {},
   "outputs": [
    {
     "name": "stdout",
     "output_type": "stream",
     "text": [
      "✅ 环境配置完成！\n"
     ]
    }
   ],
   "source": [
    "# 加入常用数学建模库，绘图忽视警告，以及添加对中文的支持\n",
    "import pandas as pd\n",
    "import numpy as np\n",
    "import matplotlib.pyplot as plt\n",
    "import seaborn as sns # 导入seaborn库用于高级绘图\n",
    "import warnings\n",
    "\n",
    "# 忽略所有警告\n",
    "warnings.filterwarnings('ignore')\n",
    "\n",
    "# 设置中文显示 - 使用Noto Sans CJK字体\n",
    "plt.rcParams['font.sans-serif'] = ['Noto Sans CJK SC', 'Noto Sans CJK JP', 'DejaVu Sans']\n",
    "plt.rcParams['axes.unicode_minus'] = False\n",
    "\n",
    "print(\"✅ 环境配置完成！\")\n"
   ]
  },
  {
   "cell_type": "code",
   "execution_count": 3,
   "id": "929758bb",
   "metadata": {},
   "outputs": [
    {
     "name": "stdout",
     "output_type": "stream",
     "text": [
      "Sheet名称: ['企业信息', '进项发票信息', '销项发票信息']\n",
      "共有 3 个sheet\n",
      "\n"
     ]
    }
   ],
   "source": [
    "\n",
    "\n",
    "# 读取附件1的数据（有多个sheet）\n",
    "\n",
    "# 使用绝对路径\n",
    "data_path = '/workspaces/data_jianmo/2020C-中小微企业信贷决策/数据/附件1：123家有信贷记录企业的相关数据.xlsx'\n",
    "\n",
    "# 读取所有sheet\n",
    "data = pd.read_excel(data_path, sheet_name=None)\n",
    "\n",
    "# 查看有哪些sheet\n",
    "sheet_names = list(data.keys())\n",
    "print(f\"Sheet名称: {sheet_names}\")\n",
    "print(f\"共有 {len(sheet_names)} 个sheet\\n\")\n",
    "\n",
    "\n",
    "# 如果需要单独访问，可以这样：\n",
    "if len(sheet_names) >= 1:\n",
    "    df_qiyexinxi = data[sheet_names[0]]\n",
    "if len(sheet_names) >= 2:\n",
    "    df_jinxiang = data[sheet_names[1]]\n",
    "if len(sheet_names) >= 3:\n",
    "    df_xiaoxiang = data[sheet_names[2]]\n"
   ]
  },
  {
   "cell_type": "code",
   "execution_count": 4,
   "id": "15fbfd4f",
   "metadata": {},
   "outputs": [
    {
     "name": "stdout",
     "output_type": "stream",
     "text": [
      "  企业代号                 企业名称 信誉评级 是否违约\n",
      "0   E1          ***电器销售有限公司    A    否\n",
      "1   E2          ***技术有限责任公司    A    否\n",
      "2   E3  ***电子(中国)有限公司***分公司    C    否\n",
      "3   E4          ***发展有限责任公司    C    否\n",
      "4   E5         ***供应链管理有限公司    B    否\n",
      "  企业代号     发票号码       开票日期  销方单位代号       金额      税额     价税合计  发票状态\n",
      "0   E1  3390939 2017-07-18  A00297  -943.40  -56.60 -1000.00  有效发票\n",
      "1   E1  3390940 2017-07-18  A00297 -4780.24 -286.81 -5067.05  有效发票\n",
      "2   E1  3390941 2017-07-18  A00297   943.40   56.60  1000.00  有效发票\n",
      "3   E1  3390942 2017-07-18  A00297  4780.24  286.81  5067.05  有效发票\n",
      "4   E1  9902669 2017-08-07  A05061   326.21    9.79   336.00  有效发票\n",
      "  企业代号      发票号码       开票日期  购方单位代号       金额       税额     价税合计  发票状态\n",
      "0   E1  11459356 2017-08-04  B03711  9401.71  1598.29  11000.0  有效发票\n",
      "1   E1   5076239 2017-08-09  B00844  8170.94  1389.06   9560.0  有效发票\n",
      "2   E1   5076240 2017-08-09  B00844  8170.94  1389.06   9560.0  有效发票\n",
      "3   E1   5076241 2017-08-09  B00844  4085.47   694.53   4780.0  有效发票\n",
      "4   E1   5076242 2017-08-09  B00844  4085.47   694.53   4780.0  有效发票\n"
     ]
    }
   ],
   "source": [
    "print(df_qiyexinxi.head())\n",
    "print(df_jinxiang.head())\n",
    "print(df_xiaoxiang.head())"
   ]
  },
  {
   "cell_type": "code",
   "execution_count": 5,
   "id": "bccb9a7d",
   "metadata": {},
   "outputs": [
    {
     "data": {
      "text/html": [
       "<div>\n",
       "<style scoped>\n",
       "    .dataframe tbody tr th:only-of-type {\n",
       "        vertical-align: middle;\n",
       "    }\n",
       "\n",
       "    .dataframe tbody tr th {\n",
       "        vertical-align: top;\n",
       "    }\n",
       "\n",
       "    .dataframe thead th {\n",
       "        text-align: right;\n",
       "    }\n",
       "</style>\n",
       "<table border=\"1\" class=\"dataframe\">\n",
       "  <thead>\n",
       "    <tr style=\"text-align: right;\">\n",
       "      <th></th>\n",
       "      <th>企业代号</th>\n",
       "      <th>企业名称</th>\n",
       "      <th>信誉评级</th>\n",
       "      <th>是否违约</th>\n",
       "    </tr>\n",
       "  </thead>\n",
       "  <tbody>\n",
       "    <tr>\n",
       "      <th>count</th>\n",
       "      <td>123</td>\n",
       "      <td>123</td>\n",
       "      <td>123</td>\n",
       "      <td>123</td>\n",
       "    </tr>\n",
       "    <tr>\n",
       "      <th>unique</th>\n",
       "      <td>123</td>\n",
       "      <td>93</td>\n",
       "      <td>4</td>\n",
       "      <td>2</td>\n",
       "    </tr>\n",
       "    <tr>\n",
       "      <th>top</th>\n",
       "      <td>E1</td>\n",
       "      <td>***建筑劳务有限公司</td>\n",
       "      <td>B</td>\n",
       "      <td>否</td>\n",
       "    </tr>\n",
       "    <tr>\n",
       "      <th>freq</th>\n",
       "      <td>1</td>\n",
       "      <td>7</td>\n",
       "      <td>38</td>\n",
       "      <td>96</td>\n",
       "    </tr>\n",
       "  </tbody>\n",
       "</table>\n",
       "</div>"
      ],
      "text/plain": [
       "       企业代号         企业名称 信誉评级 是否违约\n",
       "count   123          123  123  123\n",
       "unique  123           93    4    2\n",
       "top      E1  ***建筑劳务有限公司    B    否\n",
       "freq      1            7   38   96"
      ]
     },
     "execution_count": 5,
     "metadata": {},
     "output_type": "execute_result"
    }
   ],
   "source": [
    "df_qiyexinxi.head()  # 显示企业信息表的前几行\n",
    "df_qiyexinxi.describe()  # 显示企业信息表的统计描述"
   ]
  },
  {
   "cell_type": "code",
   "execution_count": 6,
   "id": "e66a1f17",
   "metadata": {},
   "outputs": [
    {
     "data": {
      "image/png": "[encoded data removed]",
      "text/plain": [
       "<Figure size 1200x500 with 1 Axes>"
      ]
     },
     "metadata": {},
     "output_type": "display_data"
    }
   ],
   "source": [
    "# 查看df_qiyexinxi中信誉评级和是否违约的分布情况，用中文显示\n",
    "\n",
    "plt.figure(figsize=(12, 5))\n",
    "# 设置x轴按字母顺序排列\n",
    "sns.countplot(data=df_qiyexinxi, x='信誉评级', hue='是否违约', order=['A', 'B', 'C', 'D'])\n",
    "plt.title('信誉评级与是否违约的关系')\n",
    "plt.xlabel('信誉评级')\n",
    "plt.ylabel('企业数量')\n",
    "plt.legend(title='是否违约', loc='upper right')\n",
    "plt.show()\n"
   ]
  },
  {
   "cell_type": "markdown",
   "id": "8122445a",
   "metadata": {},
   "source": [
    "可见评级越好越不容易违约"
   ]
  },
  {
   "cell_type": "markdown",
   "id": "e5ad8718",
   "metadata": {},
   "source": [
    "接下来关联df_jinxiang 和 df_qiyexinxi进行进一步分析。\n",
    "用企业代号关联"
   ]
  },
  {
   "cell_type": "code",
   "execution_count": 7,
   "id": "aa2c3170",
   "metadata": {},
   "outputs": [],
   "source": [
    "df_jinxiang = df_jinxiang.merge(df_qiyexinxi[['企业代号', '是否违约']], on='企业代号', how='left')\n",
    "df_xiaoxiang = df_xiaoxiang.merge(df_qiyexinxi[['企业代号', '是否违约']], on='企业代号', how='left')"
   ]
  },
  {
   "cell_type": "code",
   "execution_count": 8,
   "id": "0b3ce668",
   "metadata": {},
   "outputs": [
    {
     "data": {
      "text/html": [
       "<div>\n",
       "<style scoped>\n",
       "    .dataframe tbody tr th:only-of-type {\n",
       "        vertical-align: middle;\n",
       "    }\n",
       "\n",
       "    .dataframe tbody tr th {\n",
       "        vertical-align: top;\n",
       "    }\n",
       "\n",
       "    .dataframe thead th {\n",
       "        text-align: right;\n",
       "    }\n",
       "</style>\n",
       "<table border=\"1\" class=\"dataframe\">\n",
       "  <thead>\n",
       "    <tr style=\"text-align: right;\">\n",
       "      <th></th>\n",
       "      <th>企业代号</th>\n",
       "      <th>发票号码</th>\n",
       "      <th>开票日期</th>\n",
       "      <th>购方单位代号</th>\n",
       "      <th>金额</th>\n",
       "      <th>税额</th>\n",
       "      <th>价税合计</th>\n",
       "      <th>发票状态</th>\n",
       "      <th>是否违约</th>\n",
       "    </tr>\n",
       "  </thead>\n",
       "  <tbody>\n",
       "    <tr>\n",
       "      <th>0</th>\n",
       "      <td>E1</td>\n",
       "      <td>11459356</td>\n",
       "      <td>2017-08-04</td>\n",
       "      <td>B03711</td>\n",
       "      <td>9401.71</td>\n",
       "      <td>1598.29</td>\n",
       "      <td>11000.0</td>\n",
       "      <td>有效发票</td>\n",
       "      <td>否</td>\n",
       "    </tr>\n",
       "    <tr>\n",
       "      <th>1</th>\n",
       "      <td>E1</td>\n",
       "      <td>5076239</td>\n",
       "      <td>2017-08-09</td>\n",
       "      <td>B00844</td>\n",
       "      <td>8170.94</td>\n",
       "      <td>1389.06</td>\n",
       "      <td>9560.0</td>\n",
       "      <td>有效发票</td>\n",
       "      <td>否</td>\n",
       "    </tr>\n",
       "    <tr>\n",
       "      <th>2</th>\n",
       "      <td>E1</td>\n",
       "      <td>5076240</td>\n",
       "      <td>2017-08-09</td>\n",
       "      <td>B00844</td>\n",
       "      <td>8170.94</td>\n",
       "      <td>1389.06</td>\n",
       "      <td>9560.0</td>\n",
       "      <td>有效发票</td>\n",
       "      <td>否</td>\n",
       "    </tr>\n",
       "    <tr>\n",
       "      <th>3</th>\n",
       "      <td>E1</td>\n",
       "      <td>5076241</td>\n",
       "      <td>2017-08-09</td>\n",
       "      <td>B00844</td>\n",
       "      <td>4085.47</td>\n",
       "      <td>694.53</td>\n",
       "      <td>4780.0</td>\n",
       "      <td>有效发票</td>\n",
       "      <td>否</td>\n",
       "    </tr>\n",
       "    <tr>\n",
       "      <th>4</th>\n",
       "      <td>E1</td>\n",
       "      <td>5076242</td>\n",
       "      <td>2017-08-09</td>\n",
       "      <td>B00844</td>\n",
       "      <td>4085.47</td>\n",
       "      <td>694.53</td>\n",
       "      <td>4780.0</td>\n",
       "      <td>有效发票</td>\n",
       "      <td>否</td>\n",
       "    </tr>\n",
       "  </tbody>\n",
       "</table>\n",
       "</div>"
      ],
      "text/plain": [
       "  企业代号      发票号码       开票日期  购方单位代号       金额       税额     价税合计  发票状态 是否违约\n",
       "0   E1  11459356 2017-08-04  B03711  9401.71  1598.29  11000.0  有效发票    否\n",
       "1   E1   5076239 2017-08-09  B00844  8170.94  1389.06   9560.0  有效发票    否\n",
       "2   E1   5076240 2017-08-09  B00844  8170.94  1389.06   9560.0  有效发票    否\n",
       "3   E1   5076241 2017-08-09  B00844  4085.47   694.53   4780.0  有效发票    否\n",
       "4   E1   5076242 2017-08-09  B00844  4085.47   694.53   4780.0  有效发票    否"
      ]
     },
     "execution_count": 8,
     "metadata": {},
     "output_type": "execute_result"
    }
   ],
   "source": [
    "df_xiaoxiang.head()  # 显示企业信息表的前几行"
   ]
  },
  {
   "cell_type": "code",
   "execution_count": 9,
   "id": "683d026b",
   "metadata": {},
   "outputs": [
    {
     "data": {
      "text/html": [
       "<div>\n",
       "<style scoped>\n",
       "    .dataframe tbody tr th:only-of-type {\n",
       "        vertical-align: middle;\n",
       "    }\n",
       "\n",
       "    .dataframe tbody tr th {\n",
       "        vertical-align: top;\n",
       "    }\n",
       "\n",
       "    .dataframe thead th {\n",
       "        text-align: right;\n",
       "    }\n",
       "</style>\n",
       "<table border=\"1\" class=\"dataframe\">\n",
       "  <thead>\n",
       "    <tr style=\"text-align: right;\">\n",
       "      <th></th>\n",
       "      <th>企业代号</th>\n",
       "      <th>发票号码</th>\n",
       "      <th>开票日期</th>\n",
       "      <th>金额</th>\n",
       "      <th>税额</th>\n",
       "      <th>价税合计</th>\n",
       "      <th>发票状态</th>\n",
       "      <th>是否违约</th>\n",
       "      <th>单位代号</th>\n",
       "      <th>购销状态</th>\n",
       "    </tr>\n",
       "  </thead>\n",
       "  <tbody>\n",
       "    <tr>\n",
       "      <th>0</th>\n",
       "      <td>E1</td>\n",
       "      <td>3390939</td>\n",
       "      <td>2017-07-18</td>\n",
       "      <td>-943.40</td>\n",
       "      <td>-56.60</td>\n",
       "      <td>-1000.00</td>\n",
       "      <td>有效发票</td>\n",
       "      <td>否</td>\n",
       "      <td>A00297</td>\n",
       "      <td>销方</td>\n",
       "    </tr>\n",
       "    <tr>\n",
       "      <th>1</th>\n",
       "      <td>E1</td>\n",
       "      <td>3390940</td>\n",
       "      <td>2017-07-18</td>\n",
       "      <td>-4780.24</td>\n",
       "      <td>-286.81</td>\n",
       "      <td>-5067.05</td>\n",
       "      <td>有效发票</td>\n",
       "      <td>否</td>\n",
       "      <td>A00297</td>\n",
       "      <td>销方</td>\n",
       "    </tr>\n",
       "    <tr>\n",
       "      <th>2</th>\n",
       "      <td>E1</td>\n",
       "      <td>3390941</td>\n",
       "      <td>2017-07-18</td>\n",
       "      <td>943.40</td>\n",
       "      <td>56.60</td>\n",
       "      <td>1000.00</td>\n",
       "      <td>有效发票</td>\n",
       "      <td>否</td>\n",
       "      <td>A00297</td>\n",
       "      <td>销方</td>\n",
       "    </tr>\n",
       "    <tr>\n",
       "      <th>3</th>\n",
       "      <td>E1</td>\n",
       "      <td>3390942</td>\n",
       "      <td>2017-07-18</td>\n",
       "      <td>4780.24</td>\n",
       "      <td>286.81</td>\n",
       "      <td>5067.05</td>\n",
       "      <td>有效发票</td>\n",
       "      <td>否</td>\n",
       "      <td>A00297</td>\n",
       "      <td>销方</td>\n",
       "    </tr>\n",
       "    <tr>\n",
       "      <th>4</th>\n",
       "      <td>E1</td>\n",
       "      <td>9902669</td>\n",
       "      <td>2017-08-07</td>\n",
       "      <td>326.21</td>\n",
       "      <td>9.79</td>\n",
       "      <td>336.00</td>\n",
       "      <td>有效发票</td>\n",
       "      <td>否</td>\n",
       "      <td>A05061</td>\n",
       "      <td>销方</td>\n",
       "    </tr>\n",
       "  </tbody>\n",
       "</table>\n",
       "</div>"
      ],
      "text/plain": [
       "  企业代号     发票号码       开票日期       金额      税额     价税合计  发票状态 是否违约    单位代号 购销状态\n",
       "0   E1  3390939 2017-07-18  -943.40  -56.60 -1000.00  有效发票    否  A00297   销方\n",
       "1   E1  3390940 2017-07-18 -4780.24 -286.81 -5067.05  有效发票    否  A00297   销方\n",
       "2   E1  3390941 2017-07-18   943.40   56.60  1000.00  有效发票    否  A00297   销方\n",
       "3   E1  3390942 2017-07-18  4780.24  286.81  5067.05  有效发票    否  A00297   销方\n",
       "4   E1  9902669 2017-08-07   326.21    9.79   336.00  有效发票    否  A05061   销方"
      ]
     },
     "execution_count": 9,
     "metadata": {},
     "output_type": "execute_result"
    }
   ],
   "source": [
    "# 把df_jinxiang和df_xiaoxiang，union all成一个DataFrame，方便后续分析\n",
    "df_combined = pd.concat([df_jinxiang, df_xiaoxiang], ignore_index=True)\n",
    "\n",
    "df_combined['单位代号'] = df_combined['销方单位代号'].combine_first(df_combined['购方单位代号']) # 统一单位代号列\n",
    "df_combined['购销状态'] = np.where(df_combined['购方单位代号'].notnull(), '购方', '销方')\n",
    "df_combined.head()  # 显示合并后的前几行\n",
    "# 删除不需要的列\n",
    "df_combined.drop(columns=['销方单位代号', '购方单位代号'], inplace=True)\n",
    "df_combined.head()  # 显示合并后的前几行"
   ]
  },
  {
   "cell_type": "code",
   "execution_count": 10,
   "id": "d8152732",
   "metadata": {},
   "outputs": [
    {
     "data": {
      "text/html": [
       "<div>\n",
       "<style scoped>\n",
       "    .dataframe tbody tr th:only-of-type {\n",
       "        vertical-align: middle;\n",
       "    }\n",
       "\n",
       "    .dataframe tbody tr th {\n",
       "        vertical-align: top;\n",
       "    }\n",
       "\n",
       "    .dataframe thead th {\n",
       "        text-align: right;\n",
       "    }\n",
       "</style>\n",
       "<table border=\"1\" class=\"dataframe\">\n",
       "  <thead>\n",
       "    <tr style=\"text-align: right;\">\n",
       "      <th></th>\n",
       "      <th>企业代号</th>\n",
       "      <th>发票号码</th>\n",
       "      <th>开票日期</th>\n",
       "      <th>价税合计</th>\n",
       "      <th>发票状态</th>\n",
       "      <th>是否违约</th>\n",
       "      <th>单位代号</th>\n",
       "      <th>购销状态</th>\n",
       "      <th>发票绝对金额</th>\n",
       "      <th>发票类型</th>\n",
       "      <th>税额绝对金额</th>\n",
       "      <th>税额类型</th>\n",
       "    </tr>\n",
       "  </thead>\n",
       "  <tbody>\n",
       "    <tr>\n",
       "      <th>0</th>\n",
       "      <td>E1</td>\n",
       "      <td>3390939</td>\n",
       "      <td>2017-07-18</td>\n",
       "      <td>-1000.00</td>\n",
       "      <td>有效发票</td>\n",
       "      <td>否</td>\n",
       "      <td>A00297</td>\n",
       "      <td>销方</td>\n",
       "      <td>943.40</td>\n",
       "      <td>0</td>\n",
       "      <td>56.60</td>\n",
       "      <td>0</td>\n",
       "    </tr>\n",
       "    <tr>\n",
       "      <th>1</th>\n",
       "      <td>E1</td>\n",
       "      <td>3390940</td>\n",
       "      <td>2017-07-18</td>\n",
       "      <td>-5067.05</td>\n",
       "      <td>有效发票</td>\n",
       "      <td>否</td>\n",
       "      <td>A00297</td>\n",
       "      <td>销方</td>\n",
       "      <td>4780.24</td>\n",
       "      <td>0</td>\n",
       "      <td>286.81</td>\n",
       "      <td>0</td>\n",
       "    </tr>\n",
       "    <tr>\n",
       "      <th>2</th>\n",
       "      <td>E1</td>\n",
       "      <td>3390941</td>\n",
       "      <td>2017-07-18</td>\n",
       "      <td>1000.00</td>\n",
       "      <td>有效发票</td>\n",
       "      <td>否</td>\n",
       "      <td>A00297</td>\n",
       "      <td>销方</td>\n",
       "      <td>943.40</td>\n",
       "      <td>1</td>\n",
       "      <td>56.60</td>\n",
       "      <td>1</td>\n",
       "    </tr>\n",
       "    <tr>\n",
       "      <th>3</th>\n",
       "      <td>E1</td>\n",
       "      <td>3390942</td>\n",
       "      <td>2017-07-18</td>\n",
       "      <td>5067.05</td>\n",
       "      <td>有效发票</td>\n",
       "      <td>否</td>\n",
       "      <td>A00297</td>\n",
       "      <td>销方</td>\n",
       "      <td>4780.24</td>\n",
       "      <td>1</td>\n",
       "      <td>286.81</td>\n",
       "      <td>1</td>\n",
       "    </tr>\n",
       "    <tr>\n",
       "      <th>4</th>\n",
       "      <td>E1</td>\n",
       "      <td>9902669</td>\n",
       "      <td>2017-08-07</td>\n",
       "      <td>336.00</td>\n",
       "      <td>有效发票</td>\n",
       "      <td>否</td>\n",
       "      <td>A05061</td>\n",
       "      <td>销方</td>\n",
       "      <td>326.21</td>\n",
       "      <td>1</td>\n",
       "      <td>9.79</td>\n",
       "      <td>1</td>\n",
       "    </tr>\n",
       "  </tbody>\n",
       "</table>\n",
       "</div>"
      ],
      "text/plain": [
       "  企业代号     发票号码       开票日期     价税合计  发票状态 是否违约    单位代号 购销状态   发票绝对金额  发票类型  \\\n",
       "0   E1  3390939 2017-07-18 -1000.00  有效发票    否  A00297   销方   943.40     0   \n",
       "1   E1  3390940 2017-07-18 -5067.05  有效发票    否  A00297   销方  4780.24     0   \n",
       "2   E1  3390941 2017-07-18  1000.00  有效发票    否  A00297   销方   943.40     1   \n",
       "3   E1  3390942 2017-07-18  5067.05  有效发票    否  A00297   销方  4780.24     1   \n",
       "4   E1  9902669 2017-08-07   336.00  有效发票    否  A05061   销方   326.21     1   \n",
       "\n",
       "   税额绝对金额  税额类型  \n",
       "0   56.60     0  \n",
       "1  286.81     0  \n",
       "2   56.60     1  \n",
       "3  286.81     1  \n",
       "4    9.79     1  "
      ]
     },
     "execution_count": 10,
     "metadata": {},
     "output_type": "execute_result"
    }
   ],
   "source": [
    "# 处理负数金额\n",
    "df_combined['发票绝对金额'] = df_combined['金额'].abs()\n",
    "df_combined['发票类型'] = np.where(df_combined['金额'] > 0, 1, 0)  # 1表示正向发票，0表示负向发票\n",
    "df_combined['税额绝对金额'] = df_combined['税额'].abs()\n",
    "df_combined['税额类型'] = np.where(df_combined['税额'] > 0, 1, 0)  # 1表示正向发票，0表示负向发票\n",
    "df_combined.drop(columns=['金额', '税额'], inplace=True)\n",
    "df_combined.head()  # 显示处理后的前几行"
   ]
  },
  {
   "cell_type": "code",
   "execution_count": 11,
   "id": "cc246476",
   "metadata": {},
   "outputs": [
    {
     "name": "stdout",
     "output_type": "stream",
     "text": [
      "0   2017-07-18\n",
      "1   2017-07-18\n",
      "2   2017-07-18\n",
      "3   2017-07-18\n",
      "4   2017-08-07\n",
      "Name: 开票日期, dtype: datetime64[ns]\n"
     ]
    }
   ],
   "source": [
    "# 检查开票日期格式\n",
    "df_combined['开票日期'] = pd.to_datetime(df_combined['开票日期'], errors='coerce')\n",
    "print(df_combined['开票日期'].head())"
   ]
  },
  {
   "cell_type": "code",
   "execution_count": 12,
   "id": "49efc29e",
   "metadata": {},
   "outputs": [
    {
     "data": {
      "text/plain": [
       "是否违约\n",
       "否    362144\n",
       "是     11287\n",
       "Name: count, dtype: int64"
      ]
     },
     "execution_count": 12,
     "metadata": {},
     "output_type": "execute_result"
    }
   ],
   "source": [
    "# df_combined['是否违约'].value_counts().plot(kind='bar', title='是否违约分布', xlabel='是否违约', ylabel='企业数量', color=['skyblue', 'salmon']) #显示数值\n",
    "df_combined['是否违约'].value_counts()\n",
    "# plt.show()"
   ]
  },
  {
   "cell_type": "code",
   "execution_count": 13,
   "id": "21df658b",
   "metadata": {},
   "outputs": [
    {
     "data": {
      "text/plain": [
       "0.21951219512195122"
      ]
     },
     "execution_count": 13,
     "metadata": {},
     "output_type": "execute_result"
    }
   ],
   "source": [
    "\n",
    "27/(27+96)"
   ]
  },
  {
   "cell_type": "code",
   "execution_count": 14,
   "id": "88698f18",
   "metadata": {},
   "outputs": [
    {
     "data": {
      "text/plain": [
       "是否违约\n",
       "否    96\n",
       "是    27\n",
       "Name: count, dtype: int64"
      ]
     },
     "execution_count": 14,
     "metadata": {},
     "output_type": "execute_result"
    }
   ],
   "source": [
    "df_qiyexinxi['是否违约'].value_counts()  # 显示企业信息表的前几行"
   ]
  },
  {
   "cell_type": "markdown",
   "id": "d36884ba",
   "metadata": {},
   "source": [
    "违约公司发票占比很小，3%，但是在公司数量上占比在22%，这就说明大部分违约的公司的流水比较小？\n",
    "\n",
    "然后看违约发票的公司占比"
   ]
  },
  {
   "cell_type": "code",
   "execution_count": 41,
   "id": "ff41cb60",
   "metadata": {},
   "outputs": [
    {
     "name": "stdout",
     "output_type": "stream",
     "text": [
      "--- 单独检查'是否违约'列 ---\n",
      "是否违约\n",
      "0    362144\n",
      "1     11287\n",
      "Name: count, dtype: int64\n",
      "\n",
      "--- 组合检查 ---\n",
      "是否违约  发票状态\n",
      "0     有效发票    344058\n",
      "      作废发票     18086\n",
      "1     有效发票     10559\n",
      "      作废发票       728\n",
      "Name: count, dtype: int64\n"
     ]
    }
   ],
   "source": [
    "# --- 最终解决方案 ---\n",
    "\n",
    "# 1. 清洗 “是否违约” 列 (您已经做过，但为了完整性再写一次)\n",
    "df_combined['是否违约'] = df_combined['是否违约'].astype(str).str.strip()\n",
    "mapping = {'是': 1, '1': 1, '否': 0, '0': 0}\n",
    "df_combined['是否违约'] = df_combined['是否违约'].map(mapping)\n",
    "\n",
    "\n",
    "# 2. (这是关键的新增步骤) 清洗 “发票状态” 列，去除首尾可能存在的空格\n",
    "df_combined['发票状态'] = df_combined['发票状态'].str.strip()\n",
    "\n",
    "\n",
    "# 3. 现在，再次运行您的检查代码，问题应该就解决了\n",
    "print(\"--- 单独检查'是否违约'列 ---\")\n",
    "print(df_combined['是否违约'].value_counts())\n",
    "\n",
    "print(\"\\n--- 组合检查 ---\")\n",
    "print(df_combined[['是否违约', '发票状态']].value_counts())"
   ]
  },
  {
   "cell_type": "code",
   "execution_count": null,
   "id": "d4fbf59b",
   "metadata": {},
   "outputs": [
    {
     "name": "stdout",
     "output_type": "stream",
     "text": [
      "0.04994145975081735\n",
      "0.06449898112873217\n"
     ]
    }
   ],
   "source": [
    "# 不违约的公司的作废发票的比例在5%，违约的在6.5%，区别不明显\n",
    "print(18086/(18086+344058))\n",
    "print(728/(10559+728))"
   ]
  },
  {
   "cell_type": "code",
   "execution_count": 45,
   "id": "6af416cd",
   "metadata": {},
   "outputs": [
    {
     "data": {
      "text/plain": [
       "是否违约  发票状态\n",
       "0     有效发票    344058\n",
       "      作废发票     18086\n",
       "1     有效发票     10559\n",
       "      作废发票       728\n",
       "dtype: int64"
      ]
     },
     "execution_count": 45,
     "metadata": {},
     "output_type": "execute_result"
    }
   ],
   "source": [
    "# 第1步：按列分组\n",
    "grouped = df_combined.groupby(['是否违约', '发票状态'])\n",
    "\n",
    "# 第2步：对每个分组进行计数 (这里用 .size() 更合适)\n",
    "counts = grouped.size()\n",
    "\n",
    "# 第3步：手动按计数值进行降序排序\n",
    "result = counts.sort_values(ascending=False)\n",
    "result"
   ]
  },
  {
   "cell_type": "code",
   "execution_count": 58,
   "id": "bfd725a2",
   "metadata": {},
   "outputs": [
    {
     "data": {
      "text/plain": [
       "是否违约  发票状态\n",
       "0     作废发票    1.586679e+09\n",
       "      有效发票    2.522483e+10\n",
       "1     作废发票    1.821561e+07\n",
       "      有效发票    2.400858e+08\n",
       "Name: 价税合计, dtype: float64"
      ]
     },
     "execution_count": 58,
     "metadata": {},
     "output_type": "execute_result"
    }
   ],
   "source": [
    "df_combined['价税合计'] = df_combined['价税合计'].astype(float)\n",
    "df_combined['价税合计'] \n",
    "df_combined[['是否违约', '发票状态', '价税合计']].groupby(['是否违约', '发票状态'])['价税合计'].sum()"
   ]
  },
  {
   "cell_type": "code",
   "execution_count": 52,
   "id": "917b19cf",
   "metadata": {},
   "outputs": [
    {
     "name": "stdout",
     "output_type": "stream",
     "text": [
      "                   价税合计                              发票绝对金额                \\\n",
      "                    sum          mean   count           sum          mean   \n",
      "是否违约 发票状态                                                                   \n",
      "0    作废发票  1.586679e+09  87729.680917   18086  1.432300e+09  79193.826278   \n",
      "     有效发票  2.522483e+10  73315.626433  344058  2.461824e+10  71552.595175   \n",
      "1    作废发票  1.821561e+07  25021.445989     728  1.639959e+07  22526.911992   \n",
      "     有效发票  2.400858e+08  22737.547325   10559  2.240923e+08  21222.867033   \n",
      "\n",
      "                 税额绝对金额               \n",
      "                    sum         mean  \n",
      "是否违约 发票状态                             \n",
      "0    作废发票  1.714875e+08  9481.780644  \n",
      "     有效发票  3.296302e+09  9580.656771  \n",
      "1    作废发票  2.060461e+06  2830.303118  \n",
      "     有效发票  2.513713e+07  2380.635475  \n"
     ]
    }
   ],
   "source": [
    "# 按是否违约和发票状态分组，统计价税合计\n",
    "summary = df_combined.groupby(['是否违约', '发票状态']).agg({\n",
    "    '价税合计': ['sum', 'mean', 'count'],\n",
    "    '发票绝对金额': ['sum', 'mean'],\n",
    "    '税额绝对金额': ['sum', 'mean']\n",
    "})\n",
    "\n",
    "print(summary)"
   ]
  },
  {
   "cell_type": "code",
   "execution_count": 59,
   "id": "d4a73efb",
   "metadata": {},
   "outputs": [
    {
     "name": "stdout",
     "output_type": "stream",
     "text": [
      "\n",
      "--- 列联表 ---\n",
      "发票状态   作废发票    有效发票\n",
      "是否违约               \n",
      "0     18086  344058\n",
      "1       728   10559\n",
      "\n",
      "卡方统计量: 48.18086314806598, p值: 3.886630499235356e-12\n",
      "结论: '作废发票行为' 与 '是否违约' 之间存在显著相关性 (拒绝原假设)\n"
     ]
    }
   ],
   "source": [
    "# 做一个简单的卡方检验 (Chi-squared test) 来验证这一点，它会告诉您“作废发票行为”和“是否违约”这两个变量之间是否存在显著的相关性。\n",
    "from scipy.stats import chi2_contingency\n",
    "# 创建一个列联表\n",
    "contingency_table = pd.crosstab(df_combined['是否违约'], df_combined['发票状态'])\n",
    "print(\"\\n--- 列联表 ---\")\n",
    "print(contingency_table)\n",
    "# 进行卡方检验\n",
    "chi2, p, dof, expected = chi2_contingency(contingency_table)\n",
    "print(f\"\\n卡方统计量: {chi2}, p值: {p}\")\n",
    "if p < 0.05:\n",
    "    print(\"结论: '作废发票行为' 与 '是否违约' 之间存在显著相关性 (拒绝原假设)\") "
   ]
  }
 ],
 "metadata": {
  "kernelspec": {
   "display_name": ".venv",
   "language": "python",
   "name": "python3"
  },
  "language_info": {
   "codemirror_mode": {
    "name": "ipython",
    "version": 3
   },
   "file_extension": ".py",
   "mimetype": "text/x-python",
   "name": "python",
   "nbconvert_exporter": "python",
   "pygments_lexer": "ipython3",
   "version": "3.12.3"
  }
 },
 "nbformat": 4,
 "nbformat_minor": 5
}
