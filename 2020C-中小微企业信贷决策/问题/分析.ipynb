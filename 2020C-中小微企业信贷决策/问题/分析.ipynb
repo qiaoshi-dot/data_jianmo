{
 "cells": [
  {
   "cell_type": "code",
   "execution_count": 2,
   "id": "f11fb1d0",
   "metadata": {},
   "outputs": [
    {
     "name": "stdout",
     "output_type": "stream",
     "text": [
      "✅ 环境配置完成！\n"
     ]
    }
   ],
   "source": [
    "# 加入常用数学建模库，绘图忽视警告，以及添加对中文的支持\n",
    "import pandas as pd\n",
    "import numpy as np\n",
    "import matplotlib.pyplot as plt\n",
    "import seaborn as sns # 导入seaborn库用于高级绘图\n",
    "import warnings\n",
    "\n",
    "# 忽略所有警告\n",
    "warnings.filterwarnings('ignore')\n",
    "\n",
    "# 设置中文显示 - 使用Noto Sans CJK字体\n",
    "plt.rcParams['font.sans-serif'] = ['Noto Sans CJK SC', 'Noto Sans CJK JP', 'DejaVu Sans']\n",
    "plt.rcParams['axes.unicode_minus'] = False\n",
    "\n",
    "print(\"✅ 环境配置完成！\")\n"
   ]
  },
  {
   "cell_type": "code",
   "execution_count": 3,
   "id": "929758bb",
   "metadata": {},
   "outputs": [
    {
     "name": "stdout",
     "output_type": "stream",
     "text": [
      "Sheet名称: ['企业信息', '进项发票信息', '销项发票信息']\n",
      "共有 3 个sheet\n",
      "\n"
     ]
    }
   ],
   "source": [
    "\n",
    "\n",
    "# 读取附件1的数据（有多个sheet）\n",
    "\n",
    "# 使用绝对路径\n",
    "data_path = '/workspaces/data_jianmo/2020C-中小微企业信贷决策/数据/附件1：123家有信贷记录企业的相关数据.xlsx'\n",
    "\n",
    "# 读取所有sheet\n",
    "data = pd.read_excel(data_path, sheet_name=None)\n",
    "\n",
    "# 查看有哪些sheet\n",
    "sheet_names = list(data.keys())\n",
    "print(f\"Sheet名称: {sheet_names}\")\n",
    "print(f\"共有 {len(sheet_names)} 个sheet\\n\")\n",
    "\n",
    "\n",
    "# 如果需要单独访问，可以这样：\n",
    "if len(sheet_names) >= 1:\n",
    "    df_qiyexinxi = data[sheet_names[0]]\n",
    "if len(sheet_names) >= 2:\n",
    "    df_jinxiang = data[sheet_names[1]]\n",
    "if len(sheet_names) >= 3:\n",
    "    df_xiaoxiang = data[sheet_names[2]]\n"
   ]
  },
  {
   "cell_type": "code",
   "execution_count": 4,
   "id": "15fbfd4f",
   "metadata": {},
   "outputs": [
    {
     "name": "stdout",
     "output_type": "stream",
     "text": [
      "  企业代号                 企业名称 信誉评级 是否违约\n",
      "0   E1          ***电器销售有限公司    A    否\n",
      "1   E2          ***技术有限责任公司    A    否\n",
      "2   E3  ***电子(中国)有限公司***分公司    C    否\n",
      "3   E4          ***发展有限责任公司    C    否\n",
      "4   E5         ***供应链管理有限公司    B    否\n",
      "  企业代号     发票号码       开票日期  销方单位代号       金额      税额     价税合计  发票状态\n",
      "0   E1  3390939 2017-07-18  A00297  -943.40  -56.60 -1000.00  有效发票\n",
      "1   E1  3390940 2017-07-18  A00297 -4780.24 -286.81 -5067.05  有效发票\n",
      "2   E1  3390941 2017-07-18  A00297   943.40   56.60  1000.00  有效发票\n",
      "3   E1  3390942 2017-07-18  A00297  4780.24  286.81  5067.05  有效发票\n",
      "4   E1  9902669 2017-08-07  A05061   326.21    9.79   336.00  有效发票\n",
      "  企业代号      发票号码       开票日期  购方单位代号       金额       税额     价税合计  发票状态\n",
      "0   E1  11459356 2017-08-04  B03711  9401.71  1598.29  11000.0  有效发票\n",
      "1   E1   5076239 2017-08-09  B00844  8170.94  1389.06   9560.0  有效发票\n",
      "2   E1   5076240 2017-08-09  B00844  8170.94  1389.06   9560.0  有效发票\n",
      "3   E1   5076241 2017-08-09  B00844  4085.47   694.53   4780.0  有效发票\n",
      "4   E1   5076242 2017-08-09  B00844  4085.47   694.53   4780.0  有效发票\n"
     ]
    }
   ],
   "source": [
    "print(df_qiyexinxi.head())\n",
    "print(df_jinxiang.head())\n",
    "print(df_xiaoxiang.head())"
   ]
  },
  {
   "cell_type": "code",
   "execution_count": 5,
   "id": "bccb9a7d",
   "metadata": {},
   "outputs": [
    {
     "data": {
      "text/html": [
       "<div>\n",
       "<style scoped>\n",
       "    .dataframe tbody tr th:only-of-type {\n",
       "        vertical-align: middle;\n",
       "    }\n",
       "\n",
       "    .dataframe tbody tr th {\n",
       "        vertical-align: top;\n",
       "    }\n",
       "\n",
       "    .dataframe thead th {\n",
       "        text-align: right;\n",
       "    }\n",
       "</style>\n",
       "<table border=\"1\" class=\"dataframe\">\n",
       "  <thead>\n",
       "    <tr style=\"text-align: right;\">\n",
       "      <th></th>\n",
       "      <th>企业代号</th>\n",
       "      <th>企业名称</th>\n",
       "      <th>信誉评级</th>\n",
       "      <th>是否违约</th>\n",
       "    </tr>\n",
       "  </thead>\n",
       "  <tbody>\n",
       "    <tr>\n",
       "      <th>count</th>\n",
       "      <td>123</td>\n",
       "      <td>123</td>\n",
       "      <td>123</td>\n",
       "      <td>123</td>\n",
       "    </tr>\n",
       "    <tr>\n",
       "      <th>unique</th>\n",
       "      <td>123</td>\n",
       "      <td>93</td>\n",
       "      <td>4</td>\n",
       "      <td>2</td>\n",
       "    </tr>\n",
       "    <tr>\n",
       "      <th>top</th>\n",
       "      <td>E1</td>\n",
       "      <td>***建筑劳务有限公司</td>\n",
       "      <td>B</td>\n",
       "      <td>否</td>\n",
       "    </tr>\n",
       "    <tr>\n",
       "      <th>freq</th>\n",
       "      <td>1</td>\n",
       "      <td>7</td>\n",
       "      <td>38</td>\n",
       "      <td>96</td>\n",
       "    </tr>\n",
       "  </tbody>\n",
       "</table>\n",
       "</div>"
      ],
      "text/plain": [
       "       企业代号         企业名称 信誉评级 是否违约\n",
       "count   123          123  123  123\n",
       "unique  123           93    4    2\n",
       "top      E1  ***建筑劳务有限公司    B    否\n",
       "freq      1            7   38   96"
      ]
     },
     "execution_count": 5,
     "metadata": {},
     "output_type": "execute_result"
    }
   ],
   "source": [
    "df_qiyexinxi.head()  # 显示企业信息表的前几行\n",
    "df_qiyexinxi.describe()  # 显示企业信息表的统计描述"
   ]
  },
  {
   "cell_type": "code",
   "execution_count": 6,
   "id": "e66a1f17",
   "metadata": {},
   "outputs": [
    {
     "data": {
      "image/png": "[encoded data removed]",
      "text/plain": [
       "<Figure size 1200x500 with 1 Axes>"
      ]
     },
     "metadata": {},
     "output_type": "display_data"
    }
   ],
   "source": [
    "# 查看df_qiyexinxi中信誉评级和是否违约的分布情况，用中文显示\n",
    "\n",
    "plt.figure(figsize=(12, 5))\n",
    "# 设置x轴按字母顺序排列\n",
    "sns.countplot(data=df_qiyexinxi, x='信誉评级', hue='是否违约', order=['A', 'B', 'C', 'D'])\n",
    "plt.title('信誉评级与是否违约的关系')\n",
    "plt.xlabel('信誉评级')\n",
    "plt.ylabel('企业数量')\n",
    "plt.legend(title='是否违约', loc='upper right')\n",
    "plt.show()\n"
   ]
  },
  {
   "cell_type": "markdown",
   "id": "8122445a",
   "metadata": {},
   "source": [
    "可见评级越好越不容易违约"
   ]
  },
  {
   "cell_type": "markdown",
   "id": "e5ad8718",
   "metadata": {},
   "source": [
    "接下来关联df_jinxiang 和 df_qiyexinxi进行进一步分析。\n",
    "用企业代号关联"
   ]
  },
  {
   "cell_type": "code",
   "execution_count": 7,
   "id": "aa2c3170",
   "metadata": {},
   "outputs": [],
   "source": [
    "df_jinxiang = df_jinxiang.merge(df_qiyexinxi[['企业代号', '是否违约']], on='企业代号', how='left')\n",
    "df_xiaoxiang = df_xiaoxiang.merge(df_qiyexinxi[['企业代号', '是否违约']], on='企业代号', how='left')"
   ]
  },
  {
   "cell_type": "code",
   "execution_count": 8,
   "id": "0b3ce668",
   "metadata": {},
   "outputs": [
    {
     "data": {
      "text/html": [
       "<div>\n",
       "<style scoped>\n",
       "    .dataframe tbody tr th:only-of-type {\n",
       "        vertical-align: middle;\n",
       "    }\n",
       "\n",
       "    .dataframe tbody tr th {\n",
       "        vertical-align: top;\n",
       "    }\n",
       "\n",
       "    .dataframe thead th {\n",
       "        text-align: right;\n",
       "    }\n",
       "</style>\n",
       "<table border=\"1\" class=\"dataframe\">\n",
       "  <thead>\n",
       "    <tr style=\"text-align: right;\">\n",
       "      <th></th>\n",
       "      <th>企业代号</th>\n",
       "      <th>发票号码</th>\n",
       "      <th>开票日期</th>\n",
       "      <th>购方单位代号</th>\n",
       "      <th>金额</th>\n",
       "      <th>税额</th>\n",
       "      <th>价税合计</th>\n",
       "      <th>发票状态</th>\n",
       "      <th>是否违约</th>\n",
       "    </tr>\n",
       "  </thead>\n",
       "  <tbody>\n",
       "    <tr>\n",
       "      <th>0</th>\n",
       "      <td>E1</td>\n",
       "      <td>11459356</td>\n",
       "      <td>2017-08-04</td>\n",
       "      <td>B03711</td>\n",
       "      <td>9401.71</td>\n",
       "      <td>1598.29</td>\n",
       "      <td>11000.0</td>\n",
       "      <td>有效发票</td>\n",
       "      <td>否</td>\n",
       "    </tr>\n",
       "    <tr>\n",
       "      <th>1</th>\n",
       "      <td>E1</td>\n",
       "      <td>5076239</td>\n",
       "      <td>2017-08-09</td>\n",
       "      <td>B00844</td>\n",
       "      <td>8170.94</td>\n",
       "      <td>1389.06</td>\n",
       "      <td>9560.0</td>\n",
       "      <td>有效发票</td>\n",
       "      <td>否</td>\n",
       "    </tr>\n",
       "    <tr>\n",
       "      <th>2</th>\n",
       "      <td>E1</td>\n",
       "      <td>5076240</td>\n",
       "      <td>2017-08-09</td>\n",
       "      <td>B00844</td>\n",
       "      <td>8170.94</td>\n",
       "      <td>1389.06</td>\n",
       "      <td>9560.0</td>\n",
       "      <td>有效发票</td>\n",
       "      <td>否</td>\n",
       "    </tr>\n",
       "    <tr>\n",
       "      <th>3</th>\n",
       "      <td>E1</td>\n",
       "      <td>5076241</td>\n",
       "      <td>2017-08-09</td>\n",
       "      <td>B00844</td>\n",
       "      <td>4085.47</td>\n",
       "      <td>694.53</td>\n",
       "      <td>4780.0</td>\n",
       "      <td>有效发票</td>\n",
       "      <td>否</td>\n",
       "    </tr>\n",
       "    <tr>\n",
       "      <th>4</th>\n",
       "      <td>E1</td>\n",
       "      <td>5076242</td>\n",
       "      <td>2017-08-09</td>\n",
       "      <td>B00844</td>\n",
       "      <td>4085.47</td>\n",
       "      <td>694.53</td>\n",
       "      <td>4780.0</td>\n",
       "      <td>有效发票</td>\n",
       "      <td>否</td>\n",
       "    </tr>\n",
       "  </tbody>\n",
       "</table>\n",
       "</div>"
      ],
      "text/plain": [
       "  企业代号      发票号码       开票日期  购方单位代号       金额       税额     价税合计  发票状态 是否违约\n",
       "0   E1  11459356 2017-08-04  B03711  9401.71  1598.29  11000.0  有效发票    否\n",
       "1   E1   5076239 2017-08-09  B00844  8170.94  1389.06   9560.0  有效发票    否\n",
       "2   E1   5076240 2017-08-09  B00844  8170.94  1389.06   9560.0  有效发票    否\n",
       "3   E1   5076241 2017-08-09  B00844  4085.47   694.53   4780.0  有效发票    否\n",
       "4   E1   5076242 2017-08-09  B00844  4085.47   694.53   4780.0  有效发票    否"
      ]
     },
     "execution_count": 8,
     "metadata": {},
     "output_type": "execute_result"
    }
   ],
   "source": [
    "df_xiaoxiang.head()  # 显示企业信息表的前几行"
   ]
  },
  {
   "cell_type": "code",
   "execution_count": 9,
   "id": "683d026b",
   "metadata": {},
   "outputs": [
    {
     "data": {
      "text/html": [
       "<div>\n",
       "<style scoped>\n",
       "    .dataframe tbody tr th:only-of-type {\n",
       "        vertical-align: middle;\n",
       "    }\n",
       "\n",
       "    .dataframe tbody tr th {\n",
       "        vertical-align: top;\n",
       "    }\n",
       "\n",
       "    .dataframe thead th {\n",
       "        text-align: right;\n",
       "    }\n",
       "</style>\n",
       "<table border=\"1\" class=\"dataframe\">\n",
       "  <thead>\n",
       "    <tr style=\"text-align: right;\">\n",
       "      <th></th>\n",
       "      <th>企业代号</th>\n",
       "      <th>发票号码</th>\n",
       "      <th>开票日期</th>\n",
       "      <th>金额</th>\n",
       "      <th>税额</th>\n",
       "      <th>价税合计</th>\n",
       "      <th>发票状态</th>\n",
       "      <th>是否违约</th>\n",
       "      <th>单位代号</th>\n",
       "      <th>购销状态</th>\n",
       "    </tr>\n",
       "  </thead>\n",
       "  <tbody>\n",
       "    <tr>\n",
       "      <th>0</th>\n",
       "      <td>E1</td>\n",
       "      <td>3390939</td>\n",
       "      <td>2017-07-18</td>\n",
       "      <td>-943.40</td>\n",
       "      <td>-56.60</td>\n",
       "      <td>-1000.00</td>\n",
       "      <td>有效发票</td>\n",
       "      <td>否</td>\n",
       "      <td>A00297</td>\n",
       "      <td>销方</td>\n",
       "    </tr>\n",
       "    <tr>\n",
       "      <th>1</th>\n",
       "      <td>E1</td>\n",
       "      <td>3390940</td>\n",
       "      <td>2017-07-18</td>\n",
       "      <td>-4780.24</td>\n",
       "      <td>-286.81</td>\n",
       "      <td>-5067.05</td>\n",
       "      <td>有效发票</td>\n",
       "      <td>否</td>\n",
       "      <td>A00297</td>\n",
       "      <td>销方</td>\n",
       "    </tr>\n",
       "    <tr>\n",
       "      <th>2</th>\n",
       "      <td>E1</td>\n",
       "      <td>3390941</td>\n",
       "      <td>2017-07-18</td>\n",
       "      <td>943.40</td>\n",
       "      <td>56.60</td>\n",
       "      <td>1000.00</td>\n",
       "      <td>有效发票</td>\n",
       "      <td>否</td>\n",
       "      <td>A00297</td>\n",
       "      <td>销方</td>\n",
       "    </tr>\n",
       "    <tr>\n",
       "      <th>3</th>\n",
       "      <td>E1</td>\n",
       "      <td>3390942</td>\n",
       "      <td>2017-07-18</td>\n",
       "      <td>4780.24</td>\n",
       "      <td>286.81</td>\n",
       "      <td>5067.05</td>\n",
       "      <td>有效发票</td>\n",
       "      <td>否</td>\n",
       "      <td>A00297</td>\n",
       "      <td>销方</td>\n",
       "    </tr>\n",
       "    <tr>\n",
       "      <th>4</th>\n",
       "      <td>E1</td>\n",
       "      <td>9902669</td>\n",
       "      <td>2017-08-07</td>\n",
       "      <td>326.21</td>\n",
       "      <td>9.79</td>\n",
       "      <td>336.00</td>\n",
       "      <td>有效发票</td>\n",
       "      <td>否</td>\n",
       "      <td>A05061</td>\n",
       "      <td>销方</td>\n",
       "    </tr>\n",
       "  </tbody>\n",
       "</table>\n",
       "</div>"
      ],
      "text/plain": [
       "  企业代号     发票号码       开票日期       金额      税额     价税合计  发票状态 是否违约    单位代号 购销状态\n",
       "0   E1  3390939 2017-07-18  -943.40  -56.60 -1000.00  有效发票    否  A00297   销方\n",
       "1   E1  3390940 2017-07-18 -4780.24 -286.81 -5067.05  有效发票    否  A00297   销方\n",
       "2   E1  3390941 2017-07-18   943.40   56.60  1000.00  有效发票    否  A00297   销方\n",
       "3   E1  3390942 2017-07-18  4780.24  286.81  5067.05  有效发票    否  A00297   销方\n",
       "4   E1  9902669 2017-08-07   326.21    9.79   336.00  有效发票    否  A05061   销方"
      ]
     },
     "execution_count": 9,
     "metadata": {},
     "output_type": "execute_result"
    }
   ],
   "source": [
    "# 把df_jinxiang和df_xiaoxiang，union all成一个DataFrame，方便后续分析\n",
    "df_combined = pd.concat([df_jinxiang, df_xiaoxiang], ignore_index=True)\n",
    "\n",
    "df_combined['单位代号'] = df_combined['销方单位代号'].combine_first(df_combined['购方单位代号']) # 统一单位代号列\n",
    "df_combined['购销状态'] = np.where(df_combined['购方单位代号'].notnull(), '购方', '销方')\n",
    "df_combined.head()  # 显示合并后的前几行\n",
    "# 删除不需要的列\n",
    "df_combined.drop(columns=['销方单位代号', '购方单位代号'], inplace=True)\n",
    "df_combined.head()  # 显示合并后的前几行"
   ]
  },
  {
   "cell_type": "code",
   "execution_count": 10,
   "id": "d8152732",
   "metadata": {},
   "outputs": [
    {
     "data": {
      "text/html": [
       "<div>\n",
       "<style scoped>\n",
       "    .dataframe tbody tr th:only-of-type {\n",
       "        vertical-align: middle;\n",
       "    }\n",
       "\n",
       "    .dataframe tbody tr th {\n",
       "        vertical-align: top;\n",
       "    }\n",
       "\n",
       "    .dataframe thead th {\n",
       "        text-align: right;\n",
       "    }\n",
       "</style>\n",
       "<table border=\"1\" class=\"dataframe\">\n",
       "  <thead>\n",
       "    <tr style=\"text-align: right;\">\n",
       "      <th></th>\n",
       "      <th>企业代号</th>\n",
       "      <th>发票号码</th>\n",
       "      <th>开票日期</th>\n",
       "      <th>价税合计</th>\n",
       "      <th>发票状态</th>\n",
       "      <th>是否违约</th>\n",
       "      <th>单位代号</th>\n",
       "      <th>购销状态</th>\n",
       "      <th>发票绝对金额</th>\n",
       "      <th>发票类型</th>\n",
       "      <th>税额绝对金额</th>\n",
       "      <th>税额类型</th>\n",
       "    </tr>\n",
       "  </thead>\n",
       "  <tbody>\n",
       "    <tr>\n",
       "      <th>0</th>\n",
       "      <td>E1</td>\n",
       "      <td>3390939</td>\n",
       "      <td>2017-07-18</td>\n",
       "      <td>-1000.00</td>\n",
       "      <td>有效发票</td>\n",
       "      <td>否</td>\n",
       "      <td>A00297</td>\n",
       "      <td>销方</td>\n",
       "      <td>943.40</td>\n",
       "      <td>0</td>\n",
       "      <td>56.60</td>\n",
       "      <td>0</td>\n",
       "    </tr>\n",
       "    <tr>\n",
       "      <th>1</th>\n",
       "      <td>E1</td>\n",
       "      <td>3390940</td>\n",
       "      <td>2017-07-18</td>\n",
       "      <td>-5067.05</td>\n",
       "      <td>有效发票</td>\n",
       "      <td>否</td>\n",
       "      <td>A00297</td>\n",
       "      <td>销方</td>\n",
       "      <td>4780.24</td>\n",
       "      <td>0</td>\n",
       "      <td>286.81</td>\n",
       "      <td>0</td>\n",
       "    </tr>\n",
       "    <tr>\n",
       "      <th>2</th>\n",
       "      <td>E1</td>\n",
       "      <td>3390941</td>\n",
       "      <td>2017-07-18</td>\n",
       "      <td>1000.00</td>\n",
       "      <td>有效发票</td>\n",
       "      <td>否</td>\n",
       "      <td>A00297</td>\n",
       "      <td>销方</td>\n",
       "      <td>943.40</td>\n",
       "      <td>1</td>\n",
       "      <td>56.60</td>\n",
       "      <td>1</td>\n",
       "    </tr>\n",
       "    <tr>\n",
       "      <th>3</th>\n",
       "      <td>E1</td>\n",
       "      <td>3390942</td>\n",
       "      <td>2017-07-18</td>\n",
       "      <td>5067.05</td>\n",
       "      <td>有效发票</td>\n",
       "      <td>否</td>\n",
       "      <td>A00297</td>\n",
       "      <td>销方</td>\n",
       "      <td>4780.24</td>\n",
       "      <td>1</td>\n",
       "      <td>286.81</td>\n",
       "      <td>1</td>\n",
       "    </tr>\n",
       "    <tr>\n",
       "      <th>4</th>\n",
       "      <td>E1</td>\n",
       "      <td>9902669</td>\n",
       "      <td>2017-08-07</td>\n",
       "      <td>336.00</td>\n",
       "      <td>有效发票</td>\n",
       "      <td>否</td>\n",
       "      <td>A05061</td>\n",
       "      <td>销方</td>\n",
       "      <td>326.21</td>\n",
       "      <td>1</td>\n",
       "      <td>9.79</td>\n",
       "      <td>1</td>\n",
       "    </tr>\n",
       "  </tbody>\n",
       "</table>\n",
       "</div>"
      ],
      "text/plain": [
       "  企业代号     发票号码       开票日期     价税合计  发票状态 是否违约    单位代号 购销状态   发票绝对金额  发票类型  \\\n",
       "0   E1  3390939 2017-07-18 -1000.00  有效发票    否  A00297   销方   943.40     0   \n",
       "1   E1  3390940 2017-07-18 -5067.05  有效发票    否  A00297   销方  4780.24     0   \n",
       "2   E1  3390941 2017-07-18  1000.00  有效发票    否  A00297   销方   943.40     1   \n",
       "3   E1  3390942 2017-07-18  5067.05  有效发票    否  A00297   销方  4780.24     1   \n",
       "4   E1  9902669 2017-08-07   336.00  有效发票    否  A05061   销方   326.21     1   \n",
       "\n",
       "   税额绝对金额  税额类型  \n",
       "0   56.60     0  \n",
       "1  286.81     0  \n",
       "2   56.60     1  \n",
       "3  286.81     1  \n",
       "4    9.79     1  "
      ]
     },
     "execution_count": 10,
     "metadata": {},
     "output_type": "execute_result"
    }
   ],
   "source": [
    "# 处理负数金额\n",
    "df_combined['发票绝对金额'] = df_combined['金额'].abs()\n",
    "df_combined['发票类型'] = np.where(df_combined['金额'] > 0, 1, 0)  # 1表示正向发票，0表示负向发票\n",
    "df_combined['税额绝对金额'] = df_combined['税额'].abs()\n",
    "df_combined['税额类型'] = np.where(df_combined['税额'] > 0, 1, 0)  # 1表示正向发票，0表示负向发票\n",
    "df_combined.drop(columns=['金额', '税额'], inplace=True)\n",
    "df_combined.head()  # 显示处理后的前几行"
   ]
  },
  {
   "cell_type": "code",
   "execution_count": 11,
   "id": "cc246476",
   "metadata": {},
   "outputs": [
    {
     "name": "stdout",
     "output_type": "stream",
     "text": [
      "0   2017-07-18\n",
      "1   2017-07-18\n",
      "2   2017-07-18\n",
      "3   2017-07-18\n",
      "4   2017-08-07\n",
      "Name: 开票日期, dtype: datetime64[ns]\n"
     ]
    }
   ],
   "source": [
    "# 检查开票日期格式\n",
    "df_combined['开票日期'] = pd.to_datetime(df_combined['开票日期'], errors='coerce')\n",
    "print(df_combined['开票日期'].head())"
   ]
  },
  {
   "cell_type": "code",
   "execution_count": 12,
   "id": "49efc29e",
   "metadata": {},
   "outputs": [
    {
     "data": {
      "text/plain": [
       "是否违约\n",
       "否    362144\n",
       "是     11287\n",
       "Name: count, dtype: int64"
      ]
     },
     "execution_count": 12,
     "metadata": {},
     "output_type": "execute_result"
    }
   ],
   "source": [
    "# df_combined['是否违约'].value_counts().plot(kind='bar', title='是否违约分布', xlabel='是否违约', ylabel='企业数量', color=['skyblue', 'salmon']) #显示数值\n",
    "df_combined['是否违约'].value_counts()\n",
    "# plt.show()"
   ]
  },
  {
   "cell_type": "code",
   "execution_count": 13,
   "id": "21df658b",
   "metadata": {},
   "outputs": [
    {
     "data": {
      "text/plain": [
       "0.21951219512195122"
      ]
     },
     "execution_count": 13,
     "metadata": {},
     "output_type": "execute_result"
    }
   ],
   "source": [
    "\n",
    "27/(27+96)"
   ]
  },
  {
   "cell_type": "code",
   "execution_count": 14,
   "id": "88698f18",
   "metadata": {},
   "outputs": [
    {
     "data": {
      "text/plain": [
       "是否违约\n",
       "否    96\n",
       "是    27\n",
       "Name: count, dtype: int64"
      ]
     },
     "execution_count": 14,
     "metadata": {},
     "output_type": "execute_result"
    }
   ],
   "source": [
    "df_qiyexinxi['是否违约'].value_counts()  # 显示企业信息表的前几行"
   ]
  },
  {
   "cell_type": "markdown",
   "id": "d36884ba",
   "metadata": {},
   "source": [
    "违约公司发票占比很小，3%，但是在公司数量上占比在22%，这就说明大部分违约的公司的流水比较小？\n",
    "\n",
    "然后看违约发票的公司占比"
   ]
  },
  {
   "cell_type": "code",
   "execution_count": 41,
   "id": "ff41cb60",
   "metadata": {},
   "outputs": [
    {
     "name": "stdout",
     "output_type": "stream",
     "text": [
      "--- 单独检查'是否违约'列 ---\n",
      "是否违约\n",
      "0    362144\n",
      "1     11287\n",
      "Name: count, dtype: int64\n",
      "\n",
      "--- 组合检查 ---\n",
      "是否违约  发票状态\n",
      "0     有效发票    344058\n",
      "      作废发票     18086\n",
      "1     有效发票     10559\n",
      "      作废发票       728\n",
      "Name: count, dtype: int64\n"
     ]
    }
   ],
   "source": [
    "# --- 最终解决方案 ---\n",
    "\n",
    "# 1. 清洗 “是否违约” 列 (您已经做过，但为了完整性再写一次)\n",
    "df_combined['是否违约'] = df_combined['是否违约'].astype(str).str.strip()\n",
    "mapping = {'是': 1, '1': 1, '否': 0, '0': 0}\n",
    "df_combined['是否违约'] = df_combined['是否违约'].map(mapping)\n",
    "\n",
    "\n",
    "# 2. (这是关键的新增步骤) 清洗 “发票状态” 列，去除首尾可能存在的空格\n",
    "df_combined['发票状态'] = df_combined['发票状态'].str.strip()\n",
    "\n",
    "\n",
    "# 3. 现在，再次运行您的检查代码，问题应该就解决了\n",
    "print(\"--- 单独检查'是否违约'列 ---\")\n",
    "print(df_combined['是否违约'].value_counts())\n",
    "\n",
    "print(\"\\n--- 组合检查 ---\")\n",
    "print(df_combined[['是否违约', '发票状态']].value_counts())"
   ]
  },
  {
   "cell_type": "code",
   "execution_count": 43,
   "id": "d4fbf59b",
   "metadata": {},
   "outputs": [
    {
     "name": "stdout",
     "output_type": "stream",
     "text": [
      "0.04994145975081735\n",
      "0.06449898112873217\n"
     ]
    }
   ],
   "source": [
    "# 不违约的公司的作废发票的比例在5%，违约的在6.5%，区别不明显\n",
    "print(18086/(18086+344058))\n",
    "print(728/(10559+728))"
   ]
  },
  {
   "cell_type": "code",
   "execution_count": 45,
   "id": "6af416cd",
   "metadata": {},
   "outputs": [
    {
     "data": {
      "text/plain": [
       "是否违约  发票状态\n",
       "0     有效发票    344058\n",
       "      作废发票     18086\n",
       "1     有效发票     10559\n",
       "      作废发票       728\n",
       "dtype: int64"
      ]
     },
     "execution_count": 45,
     "metadata": {},
     "output_type": "execute_result"
    }
   ],
   "source": [
    "# 第1步：按列分组\n",
    "grouped = df_combined.groupby(['是否违约', '发票状态'])\n",
    "\n",
    "# 第2步：对每个分组进行计数 (这里用 .size() 更合适)\n",
    "counts = grouped.size()\n",
    "\n",
    "# 第3步：手动按计数值进行降序排序\n",
    "result = counts.sort_values(ascending=False)\n",
    "result"
   ]
  },
  {
   "cell_type": "code",
   "execution_count": 58,
   "id": "bfd725a2",
   "metadata": {},
   "outputs": [
    {
     "data": {
      "text/plain": [
       "是否违约  发票状态\n",
       "0     作废发票    1.586679e+09\n",
       "      有效发票    2.522483e+10\n",
       "1     作废发票    1.821561e+07\n",
       "      有效发票    2.400858e+08\n",
       "Name: 价税合计, dtype: float64"
      ]
     },
     "execution_count": 58,
     "metadata": {},
     "output_type": "execute_result"
    }
   ],
   "source": [
    "df_combined['价税合计'] = df_combined['价税合计'].astype(float)\n",
    "df_combined['价税合计'] \n",
    "df_combined[['是否违约', '发票状态', '价税合计']].groupby(['是否违约', '发票状态'])['价税合计'].sum()"
   ]
  },
  {
   "cell_type": "code",
   "execution_count": 52,
   "id": "917b19cf",
   "metadata": {},
   "outputs": [
    {
     "name": "stdout",
     "output_type": "stream",
     "text": [
      "                   价税合计                              发票绝对金额                \\\n",
      "                    sum          mean   count           sum          mean   \n",
      "是否违约 发票状态                                                                   \n",
      "0    作废发票  1.586679e+09  87729.680917   18086  1.432300e+09  79193.826278   \n",
      "     有效发票  2.522483e+10  73315.626433  344058  2.461824e+10  71552.595175   \n",
      "1    作废发票  1.821561e+07  25021.445989     728  1.639959e+07  22526.911992   \n",
      "     有效发票  2.400858e+08  22737.547325   10559  2.240923e+08  21222.867033   \n",
      "\n",
      "                 税额绝对金额               \n",
      "                    sum         mean  \n",
      "是否违约 发票状态                             \n",
      "0    作废发票  1.714875e+08  9481.780644  \n",
      "     有效发票  3.296302e+09  9580.656771  \n",
      "1    作废发票  2.060461e+06  2830.303118  \n",
      "     有效发票  2.513713e+07  2380.635475  \n"
     ]
    }
   ],
   "source": [
    "# 按是否违约和发票状态分组，统计价税合计\n",
    "summary = df_combined.groupby(['是否违约', '发票状态']).agg({\n",
    "    '价税合计': ['sum', 'mean', 'count'],\n",
    "    '发票绝对金额': ['sum', 'mean'],\n",
    "    '税额绝对金额': ['sum', 'mean']\n",
    "})\n",
    "\n",
    "print(summary)"
   ]
  },
  {
   "cell_type": "code",
   "execution_count": 60,
   "id": "d4a73efb",
   "metadata": {},
   "outputs": [
    {
     "name": "stdout",
     "output_type": "stream",
     "text": [
      "\n",
      "--- 列联表 ---\n",
      "发票状态   作废发票    有效发票\n",
      "是否违约               \n",
      "0     18086  344058\n",
      "1       728   10559\n",
      "\n",
      "卡方统计量: 48.18086314806598, p值: 3.886630499235356e-12\n",
      "结论: '作废发票行为' 与 '是否违约' 之间存在显著相关性 (拒绝原假设)\n"
     ]
    }
   ],
   "source": [
    "# 做一个简单的卡方检验 (Chi-squared test) 来验证这一点，它会告诉您“作废发票行为”和“是否违约”这两个变量之间是否存在显著的相关性。\n",
    "from scipy.stats import chi2_contingency\n",
    "# 创建一个列联表\n",
    "contingency_table = pd.crosstab(df_combined['是否违约'], df_combined['发票状态'])\n",
    "print(\"\\n--- 列联表 ---\")\n",
    "print(contingency_table)\n",
    "# 进行卡方检验\n",
    "chi2, p, dof, expected = chi2_contingency(contingency_table)\n",
    "print(f\"\\n卡方统计量: {chi2}, p值: {p}\")\n",
    "if p < 0.05:\n",
    "    print(\"结论: '作废发票行为' 与 '是否违约' 之间存在显著相关性 (拒绝原假设)\") \n",
    "else:\n",
    "    print(\"结论: '作废发票行为' 与 '是否违约' 之间不存在显著相关性 (无法拒绝原假设)\")"
   ]
  },
  {
   "cell_type": "code",
   "execution_count": 62,
   "id": "4fa5a8b3",
   "metadata": {},
   "outputs": [
    {
     "name": "stdout",
     "output_type": "stream",
     "text": [
      "\n",
      "--- 特征重要性排序 ---\n",
      "发票绝对金额    0.350551\n",
      "价税合计      0.332278\n",
      "税额绝对金额    0.312981\n",
      "发票状态      0.002918\n",
      "税额类型      0.000890\n",
      "发票类型      0.000383\n",
      "dtype: float64\n"
     ]
    }
   ],
   "source": [
    "# 推荐的实践方法：使用树模型进行特征重要性排序\n",
    "\n",
    "from sklearn.ensemble import RandomForestClassifier\n",
    "from sklearn.model_selection import train_test_split\n",
    "from sklearn.preprocessing import LabelEncoder\n",
    "# 准备数据\n",
    "features = ['发票状态', '发票类型', '税额类型', '价税合计', '发票绝对金额', '税额绝对金额']\n",
    "X = df_combined[features]\n",
    "y = df_combined['是否违约'] # 目标变量  \n",
    "# 处理分类变量\n",
    "\n",
    "for col in features:\n",
    "    le = LabelEncoder()\n",
    "    X[col] = le.fit_transform(X[col].astype(str))\n",
    "# 划分训练集和测试集\n",
    "X_train, X_test, y_train, y_test = train_test_split(X, y, test_size=0.3, random_state=42)\n",
    "# 训练随机森林模型\n",
    "model = RandomForestClassifier(n_estimators=100, random_state=42)\n",
    "model.fit(X_train, y_train)\n",
    "# 获取特征重要性\n",
    "importances = model.feature_importances_\n",
    "feature_importance = pd.Series(importances, index=features).sort_values(ascending=False)\n",
    "print(\"\\n--- 特征重要性排序 ---\")\n",
    "print(feature_importance)   \n"
   ]
  },
  {
   "cell_type": "code",
   "execution_count": 63,
   "id": "6521e509",
   "metadata": {},
   "outputs": [
    {
     "name": "stdout",
     "output_type": "stream",
     "text": [
      "=== 步骤1：创建企业层面的聚合特征 ===\n",
      "\n",
      "--- 准备好的、以企业为单位的数据集 ---\n",
      "数据集形状: (123, 8)\n",
      "企业总数: 123\n",
      "违约企业数: 27\n",
      "违约率: 21.95%\n",
      "\n",
      "   企业代号          总交易额         平均交易额       最大单笔交易         交易额波动   发票总数  \\\n",
      "0    E1  1.314021e+10  1.137582e+06  11699934.00  2.540174e+06  11551   \n",
      "1   E10  3.896752e+08  8.353167e+04   1029897.00  2.520610e+05   4665   \n",
      "2  E100  9.916764e+05  6.316410e+03     93730.00  1.031266e+04    157   \n",
      "3  E101  7.791234e+05  9.862322e+03     72852.25  9.062050e+03     79   \n",
      "4  E102  4.280959e+06  4.719911e+03     64990.30  8.128552e+03    907   \n",
      "5  E103  2.883581e+06  1.221856e+04    101915.76  2.572183e+04    236   \n",
      "6  E104  4.112100e+05  1.869136e+04     60200.00  2.108367e+04     22   \n",
      "7  E105  1.025481e+06  8.011574e+03     10395.00  3.236078e+03    128   \n",
      "8  E106  7.658590e+05  4.052164e+03     11801.00  3.574281e+03    189   \n",
      "9  E107  1.050410e+06  1.667317e+04    100000.00  2.889786e+04     63   \n",
      "\n",
      "     作废发票比例  是否违约  \n",
      "0  0.036014     0  \n",
      "1  0.061951     0  \n",
      "2  0.006369     1  \n",
      "3  0.392405     1  \n",
      "4  0.050717     1  \n",
      "5  0.055085     1  \n",
      "6  0.090909     0  \n",
      "7  0.007812     0  \n",
      "8  0.084656     0  \n",
      "9  0.317460     1  \n",
      "\n",
      "\n",
      "               总交易额         平均交易额        最大单笔交易         交易额波动         发票总数  \\\n",
      "count  1.230000e+02  1.230000e+02  1.230000e+02  1.230000e+02    123.00000   \n",
      "mean   2.421628e+08  5.447632e+04  8.779951e+05  9.114221e+04   3036.02439   \n",
      "std    1.215627e+09  1.385249e+05  1.800297e+06  2.547916e+05   6281.42172   \n",
      "min    1.087600e+05  8.545159e+02  9.968000e+03  1.378033e+03      8.00000   \n",
      "25%    4.147889e+06  9.685279e+03  9.874950e+04  1.721719e+04    309.00000   \n",
      "50%    2.688371e+07  1.915588e+04  1.888880e+05  3.202276e+04    907.00000   \n",
      "75%    1.031965e+08  5.738762e+04  1.000000e+06  7.226122e+04   3018.00000   \n",
      "max    1.314021e+10  1.137582e+06  1.169993e+07  2.540174e+06  44863.00000   \n",
      "\n",
      "           作废发票比例        是否违约  \n",
      "count  123.000000  123.000000  \n",
      "mean     0.078534    0.219512  \n",
      "std      0.076686    0.415609  \n",
      "min      0.000000    0.000000  \n",
      "25%      0.039120    0.000000  \n",
      "50%      0.058632    0.000000  \n",
      "75%      0.086649    0.000000  \n",
      "max      0.470588    1.000000  \n"
     ]
    }
   ],
   "source": [
    "# ============================================================\n",
    "# 【重要】正确的分析方法：企业层面的特征工程\n",
    "# ============================================================\n",
    "\n",
    "# 第一步：准备企业层面的特征数据集（聚合）\n",
    "print(\"=== 步骤1：创建企业层面的聚合特征 ===\\n\")\n",
    "\n",
    "# 确保'价税合计'是数值，并且处理好红字发票（负数）\n",
    "df_combined['发票绝对金额'] = df_combined['价税合计'].abs()\n",
    "df_combined['是否作废'] = (df_combined['发票状态'] == '作废发票').astype(int)\n",
    "\n",
    "# --- 核心聚合步骤 ---\n",
    "# 定义我们想要计算的聚合统计量\n",
    "aggregations = {\n",
    "    '发票绝对金额': ['sum', 'mean', 'max', 'std'], # 交易规模和稳定性\n",
    "    '发票号码': 'count',                         # 交易活跃度\n",
    "    '是否作废': 'mean'                           # 风险行为\n",
    "}\n",
    "\n",
    "# 按企业代号进行分组聚合\n",
    "df_companies = df_combined.groupby('企业代号').agg(aggregations).reset_index()\n",
    "\n",
    "# 为了方便，我们给聚合后的列重命名\n",
    "df_companies.columns = ['企业代号', '总交易额', '平均交易额', '最大单笔交易', '交易额波动', '发票总数', '作废发票比例']\n",
    "\n",
    "# 处理聚合后可能产生的NaN值（例如，只有一个发票的公司，其交易额波动会是NaN）\n",
    "df_companies = df_companies.fillna(0)\n",
    "\n",
    "# --- 准备目标变量 y ---\n",
    "# 我们需要每个企业的最终违约状态\n",
    "company_status = df_combined.drop_duplicates(subset=['企业代号'])[['企业代号', '是否违约']]\n",
    "\n",
    "# 将特征和目标变量合并成最终的建模用数据集\n",
    "df_model_ready = pd.merge(df_companies, company_status, on='企业代号')\n",
    "\n",
    "print(\"--- 准备好的、以企业为单位的数据集 ---\")\n",
    "print(f\"数据集形状: {df_model_ready.shape}\")\n",
    "print(f\"企业总数: {len(df_model_ready)}\")\n",
    "print(f\"违约企业数: {df_model_ready['是否违约'].sum()}\")\n",
    "print(f\"违约率: {df_model_ready['是否违约'].mean():.2%}\\n\")\n",
    "print(df_model_ready.head(10))\n",
    "print(\"\\n\")\n",
    "print(df_model_ready.describe())"
   ]
  },
  {
   "cell_type": "code",
   "execution_count": 64,
   "id": "c7b41703",
   "metadata": {},
   "outputs": [
    {
     "name": "stdout",
     "output_type": "stream",
     "text": [
      "\n",
      "=== 步骤2：基于企业层面特征的建模 ===\n",
      "\n",
      "特征矩阵形状: (123, 6)\n",
      "目标变量分布:\n",
      "是否违约\n",
      "0    96\n",
      "1    27\n",
      "Name: count, dtype: int64\n",
      "\n",
      "训练集大小: 86\n",
      "测试集大小: 37\n",
      "训练集违约率: 22.09%\n",
      "测试集违约率: 21.62%\n",
      "\n",
      "\n",
      "============================================================\n",
      "【企业层面】新的特征重要性排序\n",
      "============================================================\n",
      "总交易额      0.264186\n",
      "发票总数      0.221365\n",
      "最大单笔交易    0.148365\n",
      "交易额波动     0.136951\n",
      "作废发票比例    0.126221\n",
      "平均交易额     0.102912\n",
      "dtype: float64\n",
      "\n",
      "\n"
     ]
    },
    {
     "data": {
      "image/png": "[encoded data removed]",
      "text/plain": [
       "<Figure size 1000x600 with 1 Axes>"
      ]
     },
     "metadata": {},
     "output_type": "display_data"
    },
    {
     "name": "stdout",
     "output_type": "stream",
     "text": [
      "\n",
      "============================================================\n",
      "模型性能评估\n",
      "============================================================\n",
      "\n",
      "混淆矩阵:\n",
      "[[28  1]\n",
      " [ 3  5]]\n",
      "\n",
      "分类报告:\n",
      "              precision    recall  f1-score   support\n",
      "\n",
      "         不违约       0.90      0.97      0.93        29\n",
      "          违约       0.83      0.62      0.71         8\n",
      "\n",
      "    accuracy                           0.89        37\n",
      "   macro avg       0.87      0.80      0.82        37\n",
      "weighted avg       0.89      0.89      0.89        37\n",
      "\n",
      "\n",
      "ROC-AUC Score: 0.8362\n"
     ]
    }
   ],
   "source": [
    "# ============================================================\n",
    "# 第二步：在正确的企业级数据集上进行建模\n",
    "# ============================================================\n",
    "\n",
    "print(\"\\n=== 步骤2：基于企业层面特征的建模 ===\\n\")\n",
    "\n",
    "# 准备新的 X 和 y\n",
    "features = ['总交易额', '平均交易额', '最大单笔交易', '交易额波动', '发票总数', '作废发票比例']\n",
    "X = df_model_ready[features]\n",
    "y = df_model_ready['是否违约']\n",
    "\n",
    "# 检查数据\n",
    "print(f\"特征矩阵形状: {X.shape}\")\n",
    "print(f\"目标变量分布:\\n{y.value_counts()}\\n\")\n",
    "\n",
    "# 划分训练集和测试集\n",
    "# stratify=y 确保训练集和测试集中违约率保持一致\n",
    "X_train, X_test, y_train, y_test = train_test_split(\n",
    "    X, y, \n",
    "    test_size=0.3, \n",
    "    random_state=42, \n",
    "    stratify=y\n",
    ")\n",
    "\n",
    "print(f\"训练集大小: {len(X_train)}\")\n",
    "print(f\"测试集大小: {len(X_test)}\")\n",
    "print(f\"训练集违约率: {y_train.mean():.2%}\")\n",
    "print(f\"测试集违约率: {y_test.mean():.2%}\\n\")\n",
    "\n",
    "# 训练随机森林模型 (这次是在正确的数据上！)\n",
    "# class_weight='balanced' 处理类别不平衡问题\n",
    "model = RandomForestClassifier(\n",
    "    n_estimators=100, \n",
    "    random_state=42, \n",
    "    class_weight='balanced',\n",
    "    max_depth=10,  # 防止过拟合\n",
    "    min_samples_split=5\n",
    ")\n",
    "\n",
    "model.fit(X_train, y_train)\n",
    "\n",
    "# 获取并打印新的特征重要性\n",
    "importances = model.feature_importances_\n",
    "feature_importance = pd.Series(importances, index=features).sort_values(ascending=False)\n",
    "\n",
    "print(\"\\n\" + \"=\"*60)\n",
    "print(\"【企业层面】新的特征重要性排序\")\n",
    "print(\"=\"*60)\n",
    "print(feature_importance)\n",
    "print(\"\\n\")\n",
    "\n",
    "# 可视化特征重要性\n",
    "plt.figure(figsize=(10, 6))\n",
    "feature_importance.plot(kind='barh', color='steelblue')\n",
    "plt.title('企业层面特征重要性排序', fontsize=14, pad=20)\n",
    "plt.xlabel('重要性得分', fontsize=12)\n",
    "plt.ylabel('特征', fontsize=12)\n",
    "plt.gca().invert_yaxis()  # 最重要的在顶部\n",
    "plt.tight_layout()\n",
    "plt.show()\n",
    "\n",
    "# 评估模型性能\n",
    "from sklearn.metrics import classification_report, confusion_matrix, roc_auc_score\n",
    "\n",
    "y_pred = model.predict(X_test)\n",
    "y_pred_proba = model.predict_proba(X_test)[:, 1]\n",
    "\n",
    "print(\"\\n\" + \"=\"*60)\n",
    "print(\"模型性能评估\")\n",
    "print(\"=\"*60)\n",
    "print(\"\\n混淆矩阵:\")\n",
    "print(confusion_matrix(y_test, y_pred))\n",
    "print(\"\\n分类报告:\")\n",
    "print(classification_report(y_test, y_pred, target_names=['不违约', '违约']))\n",
    "print(f\"\\nROC-AUC Score: {roc_auc_score(y_test, y_pred_proba):.4f}\")"
   ]
  },
  {
   "cell_type": "code",
   "execution_count": 65,
   "id": "84362da7",
   "metadata": {},
   "outputs": [
    {
     "name": "stdout",
     "output_type": "stream",
     "text": [
      "--- 随机森林模型 5折交叉验证性能 ---\n",
      "Roc_auc (平均值): 0.8628\n",
      "Roc_auc (标准差): 0.0502\n",
      "\n",
      "Recall (平均值): 0.5133\n",
      "Recall (标准差): 0.3124\n",
      "\n",
      "Precision (平均值): 0.5629\n",
      "Precision (标准差): 0.3275\n",
      "\n",
      "Accuracy (平均值): 0.8290\n",
      "Accuracy (标准差): 0.0315\n",
      "\n"
     ]
    }
   ],
   "source": [
    "# ==============================================================================\n",
    "# 层次一：使用5折交叉验证增强模型可靠性\n",
    "# ==============================================================================\n",
    "from sklearn.model_selection import StratifiedKFold, cross_val_score\n",
    "from sklearn.ensemble import RandomForestClassifier\n",
    "import numpy as np\n",
    "\n",
    "# 准备数据 (与您之前的代码相同)\n",
    "features = ['总交易额', '平均交易额', '最大单笔交易', '交易额波动', '发票总数', '作废发票比例']\n",
    "X = df_model_ready[features]\n",
    "y = df_model_ready['是否违约']\n",
    "\n",
    "# 初始化与您之前相同的随机森林模型\n",
    "# class_weight='balanced' 在不平衡数据集上依然是个好习惯\n",
    "model_rf = RandomForestClassifier(\n",
    "    n_estimators=100, \n",
    "    random_state=42, \n",
    "    class_weight='balanced',\n",
    "    max_depth=10,\n",
    "    min_samples_split=5\n",
    ")\n",
    "\n",
    "# 设置5折分层交叉验证\n",
    "# n_splits=5 表示分成5份数据\n",
    "# shuffle=True 表示在划分前打乱数据顺序\n",
    "# random_state=42 确保每次运行结果一致\n",
    "cv = StratifiedKFold(n_splits=5, shuffle=True, random_state=42)\n",
    "\n",
    "# 定义我们关心的性能指标\n",
    "scoring_metrics = ['roc_auc', 'recall', 'precision', 'accuracy']\n",
    "\n",
    "print(\"--- 随机森林模型 5折交叉验证性能 ---\")\n",
    "\n",
    "# 循环计算每个指标\n",
    "for metric in scoring_metrics:\n",
    "    scores = cross_val_score(model_rf, X, y, cv=cv, scoring=metric)\n",
    "    print(f\"{metric.capitalize()} (平均值): {scores.mean():.4f}\")\n",
    "    print(f\"{metric.capitalize()} (标准差): {scores.std():.4f}\\n\")"
   ]
  },
  {
   "cell_type": "code",
   "execution_count": 66,
   "metadata": {},
   "outputs": [
    {
     "ename": "ModuleNotFoundError",
     "evalue": "No module named 'xgboost'",
     "output_type": "error",
     "traceback": [
      "\u001b[31m---------------------------------------------------------------------------\u001b[39m",
      "\u001b[31mModuleNotFoundError\u001b[39m                       Traceback (most recent call last)",
      "\u001b[36mCell\u001b[39m\u001b[36m \u001b[39m\u001b[32mIn[66]\u001b[39m\u001b[32m, line 4\u001b[39m\n\u001b[32m      1\u001b[39m \u001b[38;5;66;03m# ==============================================================================\u001b[39;00m\n\u001b[32m      2\u001b[39m \u001b[38;5;66;03m# 层次二：横向对比 - XGBoost 与 逻辑回归\u001b[39;00m\n\u001b[32m      3\u001b[39m \u001b[38;5;66;03m# ==============================================================================\u001b[39;00m\n\u001b[32m----> \u001b[39m\u001b[32m4\u001b[39m \u001b[38;5;28;01mimport\u001b[39;00m\u001b[38;5;250m \u001b[39m\u001b[34;01mxgboost\u001b[39;00m\u001b[38;5;250m \u001b[39m\u001b[38;5;28;01mas\u001b[39;00m\u001b[38;5;250m \u001b[39m\u001b[34;01mxgb\u001b[39;00m\n\u001b[32m      5\u001b[39m \u001b[38;5;28;01mfrom\u001b[39;00m\u001b[38;5;250m \u001b[39m\u001b[34;01msklearn\u001b[39;00m\u001b[34;01m.\u001b[39;00m\u001b[34;01mlinear_model\u001b[39;00m\u001b[38;5;250m \u001b[39m\u001b[38;5;28;01mimport\u001b[39;00m LogisticRegression\n\u001b[32m      6\u001b[39m \u001b[38;5;28;01mfrom\u001b[39;00m\u001b[38;5;250m \u001b[39m\u001b[34;01msklearn\u001b[39;00m\u001b[34;01m.\u001b[39;00m\u001b[34;01mpreprocessing\u001b[39;00m\u001b[38;5;250m \u001b[39m\u001b[38;5;28;01mimport\u001b[39;00m StandardScaler\n",
      "\u001b[31mModuleNotFoundError\u001b[39m: No module named 'xgboost'"
     ]
    }
   ],
   "source": [
    "# ==============================================================================\n",
    "# 层次二：横向对比 - XGBoost 与 逻辑回归\n",
    "# ==============================================================================\n",
    "import xgboost as xgb\n",
    "from sklearn.linear_model import LogisticRegression\n",
    "from sklearn.preprocessing import StandardScaler\n",
    "from sklearn.pipeline import Pipeline\n",
    "\n",
    "# --- 1. XGBoost 模型 ---\n",
    "\n",
    "# 计算 scale_pos_weight 来处理类别不平衡\n",
    "# 比例 = (不违约样本数 / 违约样本数)\n",
    "scale_pos_weight = (y == 0).sum() / (y == 1).sum()\n",
    "\n",
    "model_xgb = xgb.XGBClassifier(\n",
    "    random_state=42, \n",
    "    use_label_encoder=False, \n",
    "    eval_metric='logloss',\n",
    "    scale_pos_weight=scale_pos_weight # 关键参数\n",
    ")\n",
    "\n",
    "print(\"\\n--- XGBoost 模型 5折交叉验证性能 ---\")\n",
    "for metric in scoring_metrics:\n",
    "    scores = cross_val_score(model_xgb, X, y, cv=cv, scoring=metric)\n",
    "    print(f\"{metric.capitalize()} (平均值): {scores.mean():.4f}\")\n",
    "    print(f\"{metric.capitalize()} (标准差): {scores.std():.4f}\\n\")\n",
    "\n",
    "\n",
    "# --- 2. 逻辑回归模型 (带数据标准化) ---\n",
    "\n",
    "# 创建一个管道(Pipeline)，将标准化和逻辑回归打包\n",
    "# 这能确保在交叉验证的每一步中，只对训练数据进行标准化，避免数据泄露\n",
    "pipeline_lr = Pipeline([\n",
    "    ('scaler', StandardScaler()), # 第一步：数据标准化\n",
    "    ('logreg', LogisticRegression(random_state=42, class_weight='balanced')) # 第二步：逻辑回归\n",
    "])\n",
    "\n",
    "print(\"\\n--- 逻辑回归模型 5折交叉验证性能 ---\")\n",
    "for metric in scoring_metrics:\n",
    "    scores = cross_val_score(pipeline_lr, X, y, cv=cv, scoring=metric)\n",
    "    print(f\"{metric.capitalize()} (平均值): {scores.mean():.4f}\")\n",
    "    print(f\"{metric.capitalize()} (标准差): {scores.std():.4f}\\n\")\n",
    "\n",
    "# --- 3. (可选) 查看逻辑回归的系数以解释业务 ---\n",
    "print(\"\\n--- 逻辑回归模型特征系数解读 ---\")\n",
    "# 在整个数据集上训练一次管道以获取系数\n",
    "pipeline_lr.fit(X, y)\n",
    "# 从管道中提取逻辑回归模型\n",
    "logreg_model = pipeline_lr.named_steps['logreg']\n",
    "# 将系数与特征名对应起来\n",
    "coeffs = pd.Series(logreg_model.coef_[0], index=features).sort_values()\n",
    "print(\"特征系数 (值越大/越小，代表对违约概率的影响越大):\")\n",
    "print(coeffs)"
   ]
  }
 ],
 "metadata": {
  "kernelspec": {
   "display_name": ".venv",
   "language": "python",
   "name": "python3"
  },
  "language_info": {
   "codemirror_mode": {
    "name": "ipython",
    "version": 3
   },
   "file_extension": ".py",
   "mimetype": "text/x-python",
   "name": "python",
   "nbconvert_exporter": "python",
   "pygments_lexer": "ipython3",
   "version": "3.12.3"
  }
 },
 "nbformat": 4,
 "nbformat_minor": 5
}
